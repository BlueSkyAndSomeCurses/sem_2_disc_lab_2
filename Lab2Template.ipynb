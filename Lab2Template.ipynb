{
  "cells": [
    {
      "cell_type": "markdown",
      "metadata": {
        "id": "TUMlYqj3oKCC"
      },
      "source": [
        "## Лабораторна робота №2: \"Імплементація алгоритмів стиснення\"\n",
        "\n",
        "Склад команди та розподіл виконаних завдань:\n",
        "Валігурський Антон, Денисова Ірина, Кравчук Андрій\n",
        "- Валігурський Антон - lzw, deflate\n",
        "- Денисова Ірина - lz77\n",
        "- Кравчук Андрій - haffman \n",
        "\n",
        "Для кожного з алгоритмів поданих нижче\n",
        "- опишіть як працює алгорит\n",
        "- напишіть класи з методами encode та decode\n",
        "- перевірте правильність кодування та декодування\n",
        "- дослідіть час виконання коду в залежності від розмірів вхідних даних\n",
        "- оцініть ступінь стиснення(у відсотка) в залежності від розмірів\n",
        "- напишіть висновок про ефективність різних алгоритмів та умови за яких той чи інший алгоритм дають кращий результат"
      ]
    },
    {
      "cell_type": "code",
      "execution_count": 10,
      "metadata": {},
      "outputs": [],
      "source": [
        "import random, string\n",
        "import matplotlib.pyplot as plt\n",
        "from time import time\n",
        "\n",
        "def randomword(length):\n",
        "   letters = string.ascii_lowercase\n",
        "   return ''.join(random.choice(letters) for i in range(length))\n",
        "\n",
        "lengths = range(1,10001, 1000)\n"
      ]
    },
    {
      "cell_type": "markdown",
      "metadata": {
        "id": "q7FpJG25oNzA"
      },
      "source": [
        "# Алгоритм Гаффмана\n",
        "\n",
        "В цьому алгоритмі доцільно імплементувати клас node та додаткові функції в Huffman для побудови дерева кодування"
      ]
    },
    {
      "cell_type": "code",
      "execution_count": 11,
      "metadata": {
        "id": "5fHzFB9gh7c2"
      },
      "outputs": [],
      "source": [
        "class Huffman:\n",
        "    def encode(self, text: str) -> tuple[str, dict[str, str]]:\n",
        "        pass\n",
        "\n",
        "    def decode(self, code: str, coding_dict: dict[str, str]):\n",
        "        pass"
      ]
    },
    {
      "cell_type": "markdown",
      "metadata": {
        "id": "6_0LIrbWoQxo"
      },
      "source": [
        "# Алгоритм LZW"
      ]
    },
    {
      "cell_type": "code",
      "execution_count": 12,
      "metadata": {
        "id": "ogew0FkaoUNS"
      },
      "outputs": [],
      "source": [
        "class LZW:\n",
        "    def encode(self, text: str) -> tuple[str, list]:\n",
        "        i = 0\n",
        "        len_ = len(text)\n",
        "        code = []\n",
        "\n",
        "        start_dict = list(set(text))\n",
        "        dict_ = start_dict[:]\n",
        "\n",
        "        new_entry = \"\"\n",
        "        while i < len_:\n",
        "            new_entry += text[i]\n",
        "            i += 1\n",
        "            if new_entry not in dict_:\n",
        "                dict_.append(new_entry)\n",
        "                code.append(dict_.index(new_entry[:-1]))\n",
        "                new_entry = \"\"\n",
        "                i -= 1\n",
        "                \n",
        "        if new_entry not in dict_:\n",
        "            dict_.append(new_entry)\n",
        "        code.append(dict_.index(new_entry))\n",
        "        \n",
        "                \n",
        "        return code, start_dict\n",
        "\n",
        "        \n",
        "    def decode(self, code: str, coding_dict: list) -> str:\n",
        "        decoded_text = \"\"\n",
        "        i = 0\n",
        "\n",
        "        for symb in code:\n",
        "            symb = int(symb)\n",
        "            if int(symb) >= len(coding_dict):\n",
        "                while len(coding_dict) <= symb:\n",
        "                    new_entry = decoded_text[i]\n",
        "                    i += 1\n",
        "                    while i < len(decoded_text) and new_entry in coding_dict:\n",
        "                        new_entry += decoded_text[i]\n",
        "                        i += 1\n",
        "                    if new_entry in coding_dict:\n",
        "                        for new_char in new_entry:\n",
        "                            new_entry += new_char\n",
        "                            i+=1\n",
        "                            if new_entry not in coding_dict:\n",
        "                                break\n",
        "\n",
        "                    coding_dict.append(new_entry)\n",
        "                    i -= 1\n",
        "            decoded_text += coding_dict[symb]\n",
        "\n",
        "        return decoded_text\n",
        "\n",
        "\n",
        "\n",
        "\n",
        "\n"
      ]
    },
    {
      "cell_type": "markdown",
      "metadata": {
        "id": "eETQbkkDoTDc"
      },
      "source": [
        "# Алгоритм LZ77\n",
        "\n",
        "Потрібно заміряти розміри саме тексту, проте для роботи доцільно використовувати список тюплів, тому для зручності варто імплементувати додаткові алгоритми _text2list та _list2text"
      ]
    },
    {
      "cell_type": "code",
      "execution_count": 13,
      "metadata": {
        "id": "Mu1A0QS2oaOF"
      },
      "outputs": [],
      "source": [
        "class LZ77:\n",
        "    def __init__(self, buffer_size: int):\n",
        "        pass\n",
        "\n",
        "    def encode(self, text: str) -> str:\n",
        "        pass\n",
        "\n",
        "    def decode(self, code: str) -> str:\n",
        "        pass"
      ]
    },
    {
      "cell_type": "markdown",
      "metadata": {
        "id": "bz-B5jWroghO"
      },
      "source": [
        "# Алгоритм Deflate"
      ]
    },
    {
      "cell_type": "code",
      "execution_count": 14,
      "metadata": {
        "id": "ZAU57ZQtogOC"
      },
      "outputs": [],
      "source": [
        "class Deflate:\n",
        "    def __init__(self, buffer_size: int):\n",
        "        pass\n",
        "\n",
        "    def encode(self, text: str) -> str:\n",
        "        pass\n",
        "\n",
        "    def decode(self, code: str) -> str:\n",
        "        pass"
      ]
    },
    {
      "cell_type": "markdown",
      "metadata": {},
      "source": [
        "# Testing"
      ]
    },
    {
      "cell_type": "code",
      "execution_count": 16,
      "metadata": {},
      "outputs": [
        {
          "name": "stdout",
          "output_type": "stream",
          "text": [
            "LZW compression percentage\n",
            "0.5\n",
            "0.6985345429169574\n",
            "0.8468049090139653\n",
            "0.8484591461690698\n",
            "0.895278585813381\n",
            "0.9274851632047477\n",
            "0.9555732484076433\n",
            "0.9688624411846112\n",
            "0.9682923877526323\n",
            "0.996678108736574\n",
            "LZW compression percentage\n"
          ]
        },
        {
          "data": {
            "image/png": "[encoded data removed]",
            "text/plain": [
              "<Figure size 640x480 with 1 Axes>"
            ]
          },
          "metadata": {},
          "output_type": "display_data"
        }
      ],
      "source": [
        "X = [i for i in lengths]\n",
        "Y = []\n",
        "\n",
        "beg = 1\n",
        "print(\"LZW compression percentage\")\n",
        "for i in lengths:\n",
        "\n",
        "    to_code = randomword(i)\n",
        "    start = time()\n",
        "    code, dict_ = LZW().encode(to_code)\n",
        "    decoded = LZW().decode(code, dict_)\n",
        "    Y.append(time()-start)\n",
        "    assert to_code == decoded\n",
        "    \n",
        "    print(i / (len(code) + len(dict_)))\n",
        "print(\"LZW compression percentage\")\n",
        "    \n",
        "    \n",
        "plt.plot(X, Y, label = \"LZW\")\n",
        "plt.xlabel = \"length of string\"\n",
        "plt.ylabel = \"time perfomance\"\n",
        "\n",
        "plt.legend()\n",
        "plt.show()\n"
      ]
    },
    {
      "cell_type": "markdown",
      "metadata": {},
      "source": [
        "### LZW\n",
        "Очевидно, що зі зростанням кількості елементів в повідомленні, час стиснення відповідно зростає. На жаль, через повільнісь мови програмування Python нам не вдастся перевірити ефективність стиснення на повну, адже алгоритм розкриваєтсья на повну потужність на великих файлах, таких як картинки, в яких дуже багато повторен. Це можна довести тим, що зі збільшенням елементів відслідковується збільшення ефективності стиснення."
      ]
    }
  ],
  "metadata": {
    "colab": {
      "provenance": []
    },
    "kernelspec": {
      "display_name": "Python 3",
      "name": "python3"
    },
    "language_info": {
      "codemirror_mode": {
        "name": "ipython",
        "version": 3
      },
      "file_extension": ".py",
      "mimetype": "text/x-python",
      "name": "python",
      "nbconvert_exporter": "python",
      "pygments_lexer": "ipython3",
      "version": "3.11.7"
    }
  },
  "nbformat": 4,
  "nbformat_minor": 0
}
