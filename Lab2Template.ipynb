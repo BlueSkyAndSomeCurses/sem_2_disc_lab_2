{
  "cells": [
    {
      "cell_type": "markdown",
      "metadata": {
        "id": "TUMlYqj3oKCC"
      },
      "source": [
        "## Лабораторна робота №2: \"Імплементація алгоритмів стиснення\"\n",
        "\n",
        "Склад команди та розподіл виконаних завдань:\n",
        "Валігурський Антон, Денисова Ірина, Кравчук Андрій\n",
        "- Валігурський Антон - lzw, deflate\n",
        "- Денисова Ірина - lz77\n",
        "- Кравчук Андрій - haffman \n",
        "\n",
        "Для кожного з алгоритмів поданих нижче\n",
        "- опишіть як працює алгорит\n",
        "- напишіть класи з методами encode та decode\n",
        "- перевірте правильність кодування та декодування\n",
        "- дослідіть час виконання коду в залежності від розмірів вхідних даних\n",
        "- оцініть ступінь стиснення(у відсотка) в залежності від розмірів\n",
        "- напишіть висновок про ефективність різних алгоритмів та умови за яких той чи інший алгоритм дають кращий результат"
      ]
    },
    {
      "cell_type": "code",
      "execution_count": 2,
      "metadata": {},
      "outputs": [],
      "source": [
        "import random, string\n",
        "import matplotlib.pyplot as plt\n",
        "from time import time\n",
        "\n",
        "def randomword(length):\n",
        "   letters = string.ascii_lowercase\n",
        "   return ''.join(random.choice(letters) for i in range(length))\n",
        "\n",
        "lengths = range(2,10001, 1000)\n"
      ]
    },
    {
      "cell_type": "markdown",
      "metadata": {
        "id": "q7FpJG25oNzA"
      },
      "source": [
        "# Алгоритм Гаффмана\n",
        "\n",
        "В цьому алгоритмі доцільно імплементувати клас node та додаткові функції в Huffman для побудови дерева кодування"
      ]
    },
    {
      "cell_type": "code",
      "execution_count": 3,
      "metadata": {
        "id": "5fHzFB9gh7c2"
      },
      "outputs": [
        {
          "data": {
            "text/plain": [
              "'abracadabra'"
            ]
          },
          "execution_count": 3,
          "metadata": {},
          "output_type": "execute_result"
        }
      ],
      "source": [
        "class Node:\n",
        "    def __init__(self, symbol, frequency, left=None, right=None):\n",
        "        self.symbol = symbol\n",
        "        self.frequency = frequency\n",
        "        self.left = left\n",
        "        self.right = right\n",
        "    \n",
        "    def __repr__(self):\n",
        "        return f'Node({self.frequency}, {self.symbol})'\n",
        "\n",
        "class Huffman:\n",
        "    \n",
        "    def build_tree(self, text:str) -> Node:\n",
        "        frequencies = {}\n",
        "        for symbol in text:\n",
        "            frequencies[symbol] = frequencies.get(symbol, 0) + 1\n",
        "        nodes = [Node(char, freq) for char, freq in frequencies.items()]\n",
        "        while len(nodes) > 1:\n",
        "            nodes = sorted(nodes, key=lambda x: x.frequency)\n",
        "            left = nodes.pop(0)\n",
        "            right = nodes.pop(0)\n",
        "            parent = Node(None, left.frequency + right.frequency)\n",
        "            parent.left = left\n",
        "            parent.right = right\n",
        "            nodes.append(parent)\n",
        "        return nodes[0]\n",
        "    \n",
        "    def calculate_codes(self, root: Node, curr_node = '', codes = {}) -> dict[str, str]:\n",
        "        if root is None:\n",
        "            return\n",
        "        if root.symbol is not None:\n",
        "            codes[root.symbol] = curr_node\n",
        "        self.calculate_codes(root.left, curr_node + '0', codes)\n",
        "        self.calculate_codes(root.right, curr_node + '1', codes)\n",
        "        return codes\n",
        "\n",
        "    def encode(self, text: str) -> tuple[str, dict[str, str]]:\n",
        "        tree = self.build_tree(text)\n",
        "        codes = self.calculate_codes(tree)\n",
        "        return ''.join([codes[symbol] for symbol in text])\n",
        "\n",
        "    def decode(self, code: str, coding_dict: dict[str, str]):\n",
        "        decoded = ''\n",
        "        curr_code = ''\n",
        "        for bit in code:\n",
        "            curr_code += bit\n",
        "            for char, code in coding_dict.items():\n",
        "                if code == curr_code:\n",
        "                    decoded += char\n",
        "                    curr_code = \"\"\n",
        "                    break\n",
        "        return decoded\n",
        "\n",
        "test = 'abracadabra'\n",
        "h = Huffman()\n",
        "tree = h.build_tree(test)\n",
        "tree\n",
        "codes = h.calculate_codes(tree)\n",
        "code = h.encode(test)\n",
        "h.decode(code,codes)\n"
      ]
    },
    {
      "cell_type": "markdown",
      "metadata": {
        "id": "6_0LIrbWoQxo"
      },
      "source": [
        "# Алгоритм LZW"
      ]
    },
    {
      "cell_type": "code",
      "execution_count": 4,
      "metadata": {
        "id": "ogew0FkaoUNS"
      },
      "outputs": [],
      "source": [
        "class LZW:\n",
        "    def encode(self, text: str) -> tuple[str, list]:\n",
        "        i = 0\n",
        "        len_ = len(text)\n",
        "        code = []\n",
        "\n",
        "        start_dict = list(set(text))\n",
        "        dict_ = start_dict[:]\n",
        "\n",
        "        new_entry = \"\"\n",
        "        while i < len_:\n",
        "            new_entry += text[i]\n",
        "            i += 1\n",
        "            if new_entry not in dict_:\n",
        "                dict_.append(new_entry)\n",
        "                code.append(dict_.index(new_entry[:-1]))\n",
        "                new_entry = \"\"\n",
        "                i -= 1\n",
        "                \n",
        "        if new_entry not in dict_:\n",
        "            dict_.append(new_entry)\n",
        "        code.append(dict_.index(new_entry))\n",
        "        \n",
        "                \n",
        "        return code, start_dict\n",
        "\n",
        "        \n",
        "    def decode(self, code: str, coding_dict: list) -> str:\n",
        "        decoded_text = \"\"\n",
        "        i = 0\n",
        "\n",
        "        for symb in code:\n",
        "            symb = int(symb)\n",
        "            if int(symb) >= len(coding_dict):\n",
        "                while len(coding_dict) <= symb:\n",
        "                    new_entry = decoded_text[i]\n",
        "                    i += 1\n",
        "                    while i < len(decoded_text) and new_entry in coding_dict:\n",
        "                        new_entry += decoded_text[i]\n",
        "                        i += 1\n",
        "                    if new_entry in coding_dict:\n",
        "                        for new_char in new_entry:\n",
        "                            new_entry += new_char\n",
        "                            i+=1\n",
        "                            if new_entry not in coding_dict:\n",
        "                                break\n",
        "\n",
        "                    coding_dict.append(new_entry)\n",
        "                    i -= 1\n",
        "            decoded_text += coding_dict[symb]\n",
        "\n",
        "        return decoded_text\n",
        "\n",
        "\n",
        "\n",
        "\n",
        "\n"
      ]
    },
    {
      "cell_type": "markdown",
      "metadata": {
        "id": "eETQbkkDoTDc"
      },
      "source": [
        "# Алгоритм LZ77\n",
        "\n",
        "Потрібно заміряти розміри саме тексту, проте для роботи доцільно використовувати список тюплів, тому для зручності варто імплементувати додаткові алгоритми _text2list та _list2text"
      ]
    },
    {
      "cell_type": "code",
      "execution_count": 5,
      "metadata": {
        "id": "Mu1A0QS2oaOF"
      },
      "outputs": [],
      "source": [
        "class LZ77:\n",
        "    def __init__(self, buffer_size: int):\n",
        "        pass\n",
        "\n",
        "    def encode(self, text: str) -> str:\n",
        "        pass\n",
        "\n",
        "    def decode(self, code: str) -> str:\n",
        "        pass"
      ]
    },
    {
      "cell_type": "markdown",
      "metadata": {
        "id": "bz-B5jWroghO"
      },
      "source": [
        "# Алгоритм Deflate"
      ]
    },
    {
      "cell_type": "code",
      "execution_count": 6,
      "metadata": {
        "id": "ZAU57ZQtogOC"
      },
      "outputs": [],
      "source": [
        "class Deflate:\n",
        "    def __init__(self, buffer_size: int):\n",
        "        self.buffer_size = buffer_size\n",
        "\n",
        "    def encode(self, text: str) -> str:\n",
        "        pass\n",
        "\n",
        "    def decode(self, code: str) -> str:\n",
        "        pass"
      ]
    },
    {
      "cell_type": "markdown",
      "metadata": {},
      "source": [
        "# Testing"
      ]
    },
    {
      "cell_type": "code",
      "execution_count": 12,
      "metadata": {},
      "outputs": [
        {
          "name": "stdout",
          "output_type": "stream",
          "text": [
            "LZW compression percentage\n",
            "LZW effectivenes: 0.5\n",
            "LZW effectivenes: 0.7177650429799427\n",
            "LZW effectivenes: 0.7878787878787878\n",
            "LZW effectivenes: 0.8482622209663747\n",
            "LZW effectivenes: 0.8824696802646086\n",
            "LZW effectivenes: 0.940756065450442\n",
            "LZW effectivenes: 0.9359114299079994\n",
            "LZW effectivenes: 0.9457050243111832\n",
            "LZW effectivenes: 0.9707630716971977\n",
            "LZW effectivenes: 1.0043512216891666\n"
          ]
        },
        {
          "data": {
            "image/png": "[encoded data removed]",
            "text/plain": [
              "<Figure size 640x480 with 1 Axes>"
            ]
          },
          "metadata": {},
          "output_type": "display_data"
        }
      ],
      "source": [
        "X = [i for i in lengths]\n",
        "Y_LZW = []\n",
        "Y_HUFFMAN = []\n",
        "\n",
        "beg = 1\n",
        "print(\"LZW compression percentage\")\n",
        "for i in lengths:\n",
        "\n",
        "    to_code = randomword(i)\n",
        "    start = time()\n",
        "    code, dict_ = LZW().encode(to_code)\n",
        "    decoded = LZW().decode(code, dict_)\n",
        "    Y_LZW.append(time()-start)\n",
        "    assert to_code == decoded\n",
        "    \n",
        "    print(\"LZW effectivenes:\",i / (len(code) + len(dict_)))\n",
        "    \n",
        "    start = time()\n",
        "\n",
        "    h = Huffman()\n",
        "    codes = h.calculate_codes(tree)\n",
        "    code = h.encode(to_code)\n",
        "    decoded = h.decode(code,codes)\n",
        "    Y_HUFFMAN.append(time()-start)\n",
        "    assert to_code==decoded\n",
        "\n",
        "    \n",
        "    \n",
        "plt.plot(X, Y_LZW, label = \"LZW\")\n",
        "plt.plot(X, Y_HUFFMAN, label = \"HUFFMAN\")\n",
        "plt.xlabel = \"length of string\"\n",
        "plt.ylabel = \"time perfomance\"\n",
        "\n",
        "plt.legend()\n",
        "plt.show()\n"
      ]
    },
    {
      "cell_type": "markdown",
      "metadata": {},
      "source": [
        "### LZW\n",
        "Очевидно, що зі зростанням кількості елементів в повідомленні, час стиснення відповідно зростає. На жаль, через повільнісь мови програмування Python нам не вдастся перевірити ефективність стиснення на повну, адже алгоритм розкриваєтсья на повну потужність на великих файлах, таких як картинки, в яких дуже багато повторен. Це можна довести тим, що зі збільшенням елементів відслідковується збільшення ефективності стиснення."
      ]
    }
  ],
  "metadata": {
    "colab": {
      "provenance": []
    },
    "kernelspec": {
      "display_name": "Python 3",
      "name": "python3"
    },
    "language_info": {
      "codemirror_mode": {
        "name": "ipython",
        "version": 3
      },
      "file_extension": ".py",
      "mimetype": "text/x-python",
      "name": "python",
      "nbconvert_exporter": "python",
      "pygments_lexer": "ipython3",
      "version": "3.11.7"
    }
  },
  "nbformat": 4,
  "nbformat_minor": 0
}
