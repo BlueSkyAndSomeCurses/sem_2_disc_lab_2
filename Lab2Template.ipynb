{
  "cells": [
    {
      "cell_type": "markdown",
      "metadata": {
        "id": "TUMlYqj3oKCC"
      },
      "source": [
        "## Лабораторна робота №2: \"Імплементація алгоритмів стиснення\"\n",
        "\n",
        "Склад команди та розподіл виконаних завдань:\n",
        "Валігурський Антон, Денисова Ірина, Кравчук Андрій\n",
        "- Валігурський Антон - lzw, deflate\n",
        "- Денисова Ірина - lz77\n",
        "- Кравчук Андрій - haffman \n",
        "\n",
        "Для кожного з алгоритмів поданих нижче\n",
        "- опишіть як працює алгорит\n",
        "- напишіть класи з методами encode та decode\n",
        "- перевірте правильність кодування та декодування\n",
        "- дослідіть час виконання коду в залежності від розмірів вхідних даних\n",
        "- оцініть ступінь стиснення(у відсотка) в залежності від розмірів\n",
        "- напишіть висновок про ефективність різних алгоритмів та умови за яких той чи інший алгоритм дають кращий результат"
      ]
    },
    {
      "cell_type": "code",
      "execution_count": 46,
      "metadata": {},
      "outputs": [],
      "source": [
        "import random, string\n",
        "import matplotlib.pyplot as plt\n",
        "from time import time\n",
        "\n",
        "def randomword(length):\n",
        "   letters = string.ascii_lowercase\n",
        "   return ''.join(random.choice(letters) for i in range(length))\n",
        "\n",
        "lengths = range(2,10001, 1000)\n"
      ]
    },
    {
      "cell_type": "markdown",
      "metadata": {
        "id": "q7FpJG25oNzA"
      },
      "source": [
        "# Алгоритм Гаффмана\n",
        "\n",
        "В цьому алгоритмі доцільно імплементувати клас node та додаткові функції в Huffman для побудови дерева кодування"
      ]
    },
    {
      "cell_type": "code",
      "execution_count": 47,
      "metadata": {
        "id": "5fHzFB9gh7c2"
      },
      "outputs": [],
      "source": [
        "class Huffman:\n",
        "    def encode(self, text: str) -> tuple[str, dict[str, str]]:\n",
        "        probabilities = {\n",
        "            char: float(f\"{text.count(char) / len(text):.3f}\") for char in text\n",
        "        }\n",
        "        tree = sorted(probabilities.items(), key=lambda pair: pair[1], reverse=True)\n",
        "\n",
        "        tree_hist = [tree]\n",
        "\n",
        "        while not len(tree_hist) or len(tree_hist[-1]) != 2:\n",
        "            new_entry = tree_hist[-1][:]\n",
        "            last_el = new_entry.pop(-1)\n",
        "            new_entry[-1] = (new_entry[-1][0], last_el[0]), new_entry[-1][1] + last_el[\n",
        "                1\n",
        "            ]\n",
        "            new_entry.sort(key=lambda pair: pair[1], reverse=True)\n",
        "            tree_hist.append(new_entry)\n",
        "\n",
        "        coding_dict = {tree_hist[-1][0]: \"1\", tree_hist[-1][1]: \"0\"}\n",
        "\n",
        "        tree_hist = tree_hist[::-1][1:]\n",
        "\n",
        "        for node in tree_hist:\n",
        "            for key, value in coding_dict.items():\n",
        "                if key not in node:\n",
        "\n",
        "                    for pair in node:\n",
        "                        if pair[0] == key[0][0]:\n",
        "                            left_prob = pair[1]\n",
        "                        elif pair[0] == key[0][1]:\n",
        "                            right_prob = pair[1]\n",
        "\n",
        "                    coding_dict[(key[0][0], left_prob)] = value + \"1\"\n",
        "                    coding_dict[(key[0][1], right_prob)] = value + \"0\"\n",
        "                    coding_dict.pop(key)\n",
        "                    break\n",
        "\n",
        "        for char, code in coding_dict.items():\n",
        "            text = text.replace(char[0], code)\n",
        "\n",
        "        coding_dict = {pair[0]: value for pair, value in coding_dict.items()}\n",
        "\n",
        "        return text, coding_dict\n",
        "\n",
        "    def decode(self, code: str, coding_dict: dict[str, str]):\n",
        "        decoded = ''\n",
        "        curr_code = ''\n",
        "        for bit in code:\n",
        "            curr_code += bit\n",
        "            for char, code in coding_dict.items():\n",
        "                if code == curr_code:\n",
        "                    decoded += char\n",
        "                    curr_code = \"\"\n",
        "                    break\n",
        "        return decoded"
      ]
    },
    {
      "cell_type": "markdown",
      "metadata": {
        "id": "6_0LIrbWoQxo"
      },
      "source": [
        "# Алгоритм LZW"
      ]
    },
    {
      "cell_type": "code",
      "execution_count": 48,
      "metadata": {
        "id": "ogew0FkaoUNS"
      },
      "outputs": [],
      "source": [
        "class LZW:\n",
        "    def encode(self, text: str) -> tuple[str, list]:\n",
        "        i = 0\n",
        "        len_ = len(text)\n",
        "        code = []\n",
        "\n",
        "        start_dict = list(set(text))\n",
        "        dict_ = start_dict[:]\n",
        "\n",
        "        new_entry = \"\"\n",
        "        while i < len_:\n",
        "            new_entry += text[i]\n",
        "            i += 1\n",
        "            if new_entry not in dict_:\n",
        "                dict_.append(new_entry)\n",
        "                code.append(dict_.index(new_entry[:-1]))\n",
        "                new_entry = \"\"\n",
        "                i -= 1\n",
        "                \n",
        "        if new_entry not in dict_:\n",
        "            dict_.append(new_entry)\n",
        "        code.append(dict_.index(new_entry))\n",
        "        \n",
        "                \n",
        "        return code, start_dict\n",
        "\n",
        "        \n",
        "    def decode(self, code: str, coding_dict: list) -> str:\n",
        "        decoded_text = \"\"\n",
        "        i = 0\n",
        "\n",
        "        for symb in code:\n",
        "            symb = int(symb)\n",
        "            if int(symb) >= len(coding_dict):\n",
        "                while len(coding_dict) <= symb:\n",
        "                    new_entry = decoded_text[i]\n",
        "                    i += 1\n",
        "                    while i < len(decoded_text) and new_entry in coding_dict:\n",
        "                        new_entry += decoded_text[i]\n",
        "                        i += 1\n",
        "                    if new_entry in coding_dict:\n",
        "                        for new_char in new_entry:\n",
        "                            new_entry += new_char\n",
        "                            i+=1\n",
        "                            if new_entry not in coding_dict:\n",
        "                                break\n",
        "\n",
        "                    coding_dict.append(new_entry)\n",
        "                    i -= 1\n",
        "            decoded_text += coding_dict[symb]\n",
        "\n",
        "        return decoded_text\n",
        "\n",
        "\n",
        "\n",
        "\n",
        "\n"
      ]
    },
    {
      "cell_type": "markdown",
      "metadata": {
        "id": "eETQbkkDoTDc"
      },
      "source": [
        "# Алгоритм LZ77\n",
        "\n",
        "Потрібно заміряти розміри саме тексту, проте для роботи доцільно використовувати список тюплів, тому для зручності варто імплементувати додаткові алгоритми _text2list та _list2text"
      ]
    },
    {
      "cell_type": "code",
      "execution_count": 49,
      "metadata": {
        "id": "Mu1A0QS2oaOF"
      },
      "outputs": [],
      "source": [
        "class LZ77:\n",
        "    def __init__(self, window_size: int):\n",
        "        self.window_size = window_size\n",
        "\n",
        "    def encode(self, text):\n",
        "        \"\"\"\n",
        "        Encoding\n",
        "        \"\"\"\n",
        "        compressed = []\n",
        "        index = 0\n",
        "\n",
        "        while index < len(text):\n",
        "            best_offset = -1\n",
        "            best_length = -1\n",
        "            best_match = ''\n",
        "\n",
        "            # Search for the longest match in the sliding window\n",
        "            for length in range(1, min(len(text) - index, self.window_size)):\n",
        "                substring = text[index:index + length]\n",
        "                offset = text.rfind(substring, max(0, index - self.window_size), index)\n",
        "\n",
        "                if offset != -1 and length > best_length:\n",
        "                    best_offset = index - offset\n",
        "                    best_length = length\n",
        "                    best_match = substring\n",
        "\n",
        "            if best_match:\n",
        "                # Add the (offset, length, next_character) tuple to the compressed data\n",
        "                compressed.append((best_offset, best_length, text[index + best_length]))\n",
        "                index += best_length + 1\n",
        "            else:\n",
        "                # No match found, add a zero-offset tuple\n",
        "                compressed.append((0, 0, text[index]))\n",
        "                index += 1\n",
        "\n",
        "        return compressed\n",
        "\n",
        "    def decode(self, encoded_list: list) -> str:\n",
        "        \"\"\"\n",
        "        Decoding\n",
        "        \"\"\"\n",
        "        result = \"\"\n",
        "        for item in encoded_list:\n",
        "            offset, length, next_char = item\n",
        "            result += result[-offset:][:length] + next_char\n",
        "        return result\n"
      ]
    },
    {
      "cell_type": "markdown",
      "metadata": {
        "id": "bz-B5jWroghO"
      },
      "source": [
        "# Алгоритм Deflate"
      ]
    },
    {
      "cell_type": "code",
      "execution_count": 50,
      "metadata": {
        "id": "ZAU57ZQtogOC"
      },
      "outputs": [],
      "source": [
        "class Deflate:\n",
        "    def __init__(self, buffer_size: int):\n",
        "        self.buffer_size = buffer_size\n",
        "\n",
        "    def encode(self, text: str) -> str:\n",
        "\n",
        "        tree = Huffman().build_tree(text)\n",
        "        codes = Huffman().calculate_codes(tree)\n",
        "        enccoded = LZ77(self.buffer_size).encode(Huffman().encode(text))\n",
        "        \n",
        "        return enccoded,codes\n",
        "\n",
        "                \n",
        "        # return LZ77(self.buffer_size).encode(enccoded), codes\n",
        "\n",
        "    def decode(self, code: list, codes: dict) -> str:\n",
        "\n",
        "        print(codes)\n",
        "        return Huffman().decode(LZ77(self.buffer_size).decode(code),codes)\n",
        "\n",
        "    \n",
        "text = \"zxc\"\n",
        "deflate = Deflate(5)\n",
        "\n",
        "# encoded_text, codes_dict=deflate.encode(text)\n",
        "# decoded = deflate.decode(encoded_text, codes_dict)\n",
        "# print(decoded)\n",
        "\n"
      ]
    },
    {
      "cell_type": "markdown",
      "metadata": {},
      "source": [
        "# Testing"
      ]
    },
    {
      "cell_type": "code",
      "execution_count": 51,
      "metadata": {},
      "outputs": [
        {
          "name": "stdout",
          "output_type": "stream",
          "text": [
            "LZW effectivenes: 0.5\n",
            "LZ77 effectiveness: 0.1111111111111111\n",
            "LZW effectivenes: 0.7373068432671082\n",
            "LZ77 effectiveness: 0.13333333333333333\n",
            "LZW effectivenes: 0.7925574030087095\n",
            "LZ77 effectiveness: 0.1318579990779161\n",
            "LZW effectivenes: 0.8456338028169014\n",
            "LZ77 effectiveness: 0.13090877376591661\n",
            "LZW effectivenes: 0.881886293521375\n",
            "LZ77 effectiveness: 0.1316360765739096\n",
            "LZW effectivenes: 0.9340802987861812\n",
            "LZ77 effectiveness: 0.13195103935844676\n",
            "LZW effectivenes: 0.9451968503937008\n",
            "LZ77 effectiveness: 0.13135491213096098\n",
            "LZW effectivenes: 0.9573420836751435\n",
            "LZ77 effectiveness: 0.13186440677966102\n",
            "LZW effectivenes: 0.9667754017155974\n",
            "LZ77 effectiveness: 0.1318764626388477\n",
            "LZW effectivenes: 0.9975620567375887\n",
            "LZ77 effectiveness: 0.13169482846902203\n"
          ]
        },
        {
          "data": {
            "image/png": "[encoded data removed]",
            "text/plain": [
              "<Figure size 640x480 with 1 Axes>"
            ]
          },
          "metadata": {},
          "output_type": "display_data"
        }
      ],
      "source": [
        "X = [i for i in lengths]\n",
        "Y_LZW = []\n",
        "Y_HUFFMAN = []\n",
        "Y_LZ77 = []\n",
        "\n",
        "for i in lengths:\n",
        "\n",
        "    to_code = randomword(i)\n",
        "    start = time()\n",
        "    code, dict_ = LZW().encode(to_code)\n",
        "    decoded = LZW().decode(code, dict_)\n",
        "    Y_LZW.append(time()-start)\n",
        "    assert to_code == decoded\n",
        "    \n",
        "    print(\"LZW effectivenes:\",i / (len(code) + len(dict_)))\n",
        "    \n",
        "    start = time()\n",
        "    lz777 = LZ77(5)\n",
        "    encoded = lz777.encode(to_code)\n",
        "    decoded = lz777.decode(encoded)\n",
        "    Y_LZ77.append(time()-start)\n",
        "    assert decoded == to_code\n",
        "    \n",
        "    print(\"LZ77 effectiveness:\", i / (9*len(encoded)))\n",
        "    \n",
        "    start = time()\n",
        "    huff = Huffman()\n",
        "    encoded, coding_dict = huff.encode(to_code)\n",
        "    decoded = huff.decode(encoded,coding_dict)\n",
        "    Y_HUFFMAN.append(time()-start)\n",
        "    assert to_code == decoded\n",
        "    \n",
        "    \n",
        "    \n",
        "plt.plot(X, Y_LZW, label = \"LZW\")\n",
        "plt.plot(X, Y_HUFFMAN, label = \"HUFFMAN\")\n",
        "plt.plot(X, Y_LZ77, label = \"LZ77\")\n",
        "plt.xlabel = \"length of string\"\n",
        "plt.ylabel = \"time perfomance\"\n",
        "\n",
        "plt.legend()\n",
        "plt.show()\n"
      ]
    },
    {
      "cell_type": "markdown",
      "metadata": {},
      "source": [
        "### LZW\n",
        "Очевидно, що зі зростанням кількості елементів в повідомленні, час стиснення відповідно зростає. На жаль, через повільнісь мови програмування Python нам не вдастся перевірити ефективність стиснення на повну, адже алгоритм розкриваєтсья на повну потужність на великих файлах, таких як картинки, в яких дуже багато повторен. Це можна довести тим, що зі збільшенням елементів відслідковується збільшення ефективності стиснення."
      ]
    },
    {
      "cell_type": "markdown",
      "metadata": {},
      "source": [
        "\n",
        "# LZ77\n",
        "Метод encode сканує текст та створює стиснену версію, використовуючи трійки (зсув, довжина, наступний символ). Для кожної позиції у тексті, алгоритм шукає найдовший збіг вікном заданого розміру, позначає його як трійку і зсувається далі. Якщо збіг не знайдено, то додається трійка з нульовим зсувом.\n",
        "\n",
        "Метод decode використовує закодовані трійки для відновлення оригінального тексту. Для кожної трійки він використовує зсув та довжину для вибору підстрічки з попередніх символів та додає наступний символ.\n",
        "\n",
        "Н амою думку, цей алгоритм ефективно стискує повторювані фрагменти в тексті, зменшуючи загальний об'єм інформації. Однак для деяких видів даних та текстів інші алгоритми стиснення можуть бути більш ефективними."
      ]
    }
  ],
  "metadata": {
    "colab": {
      "provenance": []
    },
    "kernelspec": {
      "display_name": "Python 3",
      "name": "python3"
    },
    "language_info": {
      "codemirror_mode": {
        "name": "ipython",
        "version": 3
      },
      "file_extension": ".py",
      "mimetype": "text/x-python",
      "name": "python",
      "nbconvert_exporter": "python",
      "pygments_lexer": "ipython3",
      "version": "3.11.7"
    }
  },
  "nbformat": 4,
  "nbformat_minor": 0
}
