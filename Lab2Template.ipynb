{
  "cells": [
    {
      "cell_type": "markdown",
      "metadata": {
        "id": "TUMlYqj3oKCC"
      },
      "source": [
        "## Лабораторна робота №2: \"Імплементація алгоритмів стиснення\"\n",
        "\n",
        "Склад команди та розподіл виконаних завдань:\n",
        "Валігурський Антон, Денисова Ірина, Кравчук Андрій\n",
        "- Валігурський Антон - lzw, deflate\n",
        "- Денисова Ірина - lz77\n",
        "- Кравчук Андрій - haffman \n",
        "\n",
        "Для кожного з алгоритмів поданих нижче\n",
        "- опишіть як працює алгорит\n",
        "- напишіть класи з методами encode та decode\n",
        "- перевірте правильність кодування та декодування\n",
        "- дослідіть час виконання коду в залежності від розмірів вхідних даних\n",
        "- оцініть ступінь стиснення(у відсотка) в залежності від розмірів\n",
        "- напишіть висновок про ефективність різних алгоритмів та умови за яких той чи інший алгоритм дають кращий результат"
      ]
    },
    {
      "cell_type": "code",
      "execution_count": 165,
      "metadata": {},
      "outputs": [],
      "source": [
        "import random, string\n",
        "import matplotlib.pyplot as plt\n",
        "from time import time\n",
        "\n",
        "def randomword(length):\n",
        "   letters = string.ascii_lowercase\n",
        "   return ''.join(random.choice(letters) for i in range(length))\n",
        "\n",
        "lengths = range(2,10001, 1000)\n"
      ]
    },
    {
      "cell_type": "markdown",
      "metadata": {
        "id": "q7FpJG25oNzA"
      },
      "source": [
        "# Алгоритм Гаффмана\n",
        "\n",
        "В цьому алгоритмі доцільно імплементувати клас node та додаткові функції в Huffman для побудови дерева кодування"
      ]
    },
    {
      "cell_type": "code",
      "execution_count": 166,
      "metadata": {
        "id": "5fHzFB9gh7c2"
      },
      "outputs": [],
      "source": [
        "class Node:\n",
        "    def __init__(self, symbol, frequency, left=None, right=None):\n",
        "        self.symbol = symbol\n",
        "        self.frequency = frequency\n",
        "        self.left = left\n",
        "        self.right = right\n",
        "    \n",
        "    def __repr__(self):\n",
        "        return f'Node({self.frequency}, {self.symbol})'\n",
        "\n",
        "class Huffman:\n",
        "    \n",
        "    def build_tree(self, text:str) -> Node:\n",
        "        frequencies = {}\n",
        "        for symbol in text:\n",
        "            frequencies[symbol] = frequencies.get(symbol, 0) + 1\n",
        "        nodes = [Node(char, freq) for char, freq in frequencies.items()]\n",
        "        while len(nodes) > 1:\n",
        "            nodes = sorted(nodes, key=lambda x: x.frequency)\n",
        "            left = nodes.pop(0)\n",
        "            right = nodes.pop(0)\n",
        "            parent = Node(None, left.frequency + right.frequency)\n",
        "            parent.left = left\n",
        "            parent.right = right\n",
        "            nodes.append(parent)\n",
        "        return nodes[0]\n",
        "    \n",
        "    def calculate_codes(self, root: Node, curr_node = '', codes = {}) -> dict[str, str]:\n",
        "        if root is None:\n",
        "            return\n",
        "        if root.symbol is not None:\n",
        "            codes[root.symbol] = curr_node\n",
        "        self.calculate_codes(root.left, curr_node + '0', codes)\n",
        "        self.calculate_codes(root.right, curr_node + '1', codes)\n",
        "        return codes\n",
        "\n",
        "    def encode(self, text: str) -> tuple[str, dict[str, str]]:\n",
        "        tree = self.build_tree(text)\n",
        "        codes = self.calculate_codes(tree)\n",
        "        return ''.join([codes[symbol] for symbol in text])\n",
        "\n",
        "    def decode(self, code: str, coding_dict: dict[str, str]):\n",
        "        decoded = ''\n",
        "        curr_code = ''\n",
        "        for bit in code:\n",
        "            curr_code += bit\n",
        "            for char, code in coding_dict.items():\n",
        "                if code == curr_code:\n",
        "                    decoded += char\n",
        "                    curr_code = \"\"\n",
        "                    break\n",
        "        return decoded\n",
        "\n",
        "to_code = randomword(100)\n",
        "h = Huffman()\n",
        "tree = h.build_tree(to_code)\n",
        "codes = h.calculate_codes(tree)\n",
        "enccoded = h.encode(to_code)\n",
        "decoded = h.decode(h.encode(to_code), codes) "
      ]
    },
    {
      "cell_type": "markdown",
      "metadata": {
        "id": "6_0LIrbWoQxo"
      },
      "source": [
        "# Алгоритм LZW"
      ]
    },
    {
      "cell_type": "code",
      "execution_count": 167,
      "metadata": {
        "id": "ogew0FkaoUNS"
      },
      "outputs": [],
      "source": [
        "class LZW:\n",
        "    def encode(self, text: str) -> tuple[str, list]:\n",
        "        i = 0\n",
        "        len_ = len(text)\n",
        "        code = []\n",
        "\n",
        "        start_dict = list(set(text))\n",
        "        dict_ = start_dict[:]\n",
        "\n",
        "        new_entry = \"\"\n",
        "        while i < len_:\n",
        "            new_entry += text[i]\n",
        "            i += 1\n",
        "            if new_entry not in dict_:\n",
        "                dict_.append(new_entry)\n",
        "                code.append(dict_.index(new_entry[:-1]))\n",
        "                new_entry = \"\"\n",
        "                i -= 1\n",
        "                \n",
        "        if new_entry not in dict_:\n",
        "            dict_.append(new_entry)\n",
        "        code.append(dict_.index(new_entry))\n",
        "        \n",
        "                \n",
        "        return code, start_dict\n",
        "\n",
        "        \n",
        "    def decode(self, code: str, coding_dict: list) -> str:\n",
        "        decoded_text = \"\"\n",
        "        i = 0\n",
        "\n",
        "        for symb in code:\n",
        "            symb = int(symb)\n",
        "            if int(symb) >= len(coding_dict):\n",
        "                while len(coding_dict) <= symb:\n",
        "                    new_entry = decoded_text[i]\n",
        "                    i += 1\n",
        "                    while i < len(decoded_text) and new_entry in coding_dict:\n",
        "                        new_entry += decoded_text[i]\n",
        "                        i += 1\n",
        "                    if new_entry in coding_dict:\n",
        "                        for new_char in new_entry:\n",
        "                            new_entry += new_char\n",
        "                            i+=1\n",
        "                            if new_entry not in coding_dict:\n",
        "                                break\n",
        "\n",
        "                    coding_dict.append(new_entry)\n",
        "                    i -= 1\n",
        "            decoded_text += coding_dict[symb]\n",
        "\n",
        "        return decoded_text\n",
        "\n",
        "\n",
        "\n",
        "\n",
        "\n"
      ]
    },
    {
      "cell_type": "markdown",
      "metadata": {
        "id": "eETQbkkDoTDc"
      },
      "source": [
        "# Алгоритм LZ77\n",
        "\n",
        "Потрібно заміряти розміри саме тексту, проте для роботи доцільно використовувати список тюплів, тому для зручності варто імплементувати додаткові алгоритми _text2list та _list2text"
      ]
    },
    {
      "cell_type": "code",
      "execution_count": 168,
      "metadata": {
        "id": "Mu1A0QS2oaOF"
      },
      "outputs": [],
      "source": [
        "class LZ77:\n",
        "    def __init__(self, window_size: int):\n",
        "        self.window_size = window_size\n",
        "\n",
        "    def encode(self, text):\n",
        "        \"\"\"\n",
        "        Encoding\n",
        "        \"\"\"\n",
        "        compressed = []\n",
        "        index = 0\n",
        "\n",
        "        while index < len(text):\n",
        "            best_offset = -1\n",
        "            best_length = -1\n",
        "            best_match = ''\n",
        "\n",
        "            # Search for the longest match in the sliding window\n",
        "            for length in range(1, min(len(text) - index, self.window_size)):\n",
        "                substring = text[index:index + length]\n",
        "                offset = text.rfind(substring, max(0, index - self.window_size), index)\n",
        "\n",
        "                if offset != -1 and length > best_length:\n",
        "                    best_offset = index - offset\n",
        "                    best_length = length\n",
        "                    best_match = substring\n",
        "\n",
        "            if best_match:\n",
        "                # Add the (offset, length, next_character) tuple to the compressed data\n",
        "                compressed.append((best_offset, best_length, text[index + best_length]))\n",
        "                index += best_length + 1\n",
        "            else:\n",
        "                # No match found, add a zero-offset tuple\n",
        "                compressed.append((0, 0, text[index]))\n",
        "                index += 1\n",
        "\n",
        "        return compressed\n",
        "\n",
        "    def decode(self, encoded_list: list) -> str:\n",
        "        \"\"\"\n",
        "        Decoding\n",
        "        \"\"\"\n",
        "        result = \"\"\n",
        "        for item in encoded_list:\n",
        "            offset, length, next_char = item\n",
        "            result += result[-offset:][:length] + next_char\n",
        "        return result\n"
      ]
    },
    {
      "cell_type": "markdown",
      "metadata": {
        "id": "bz-B5jWroghO"
      },
      "source": [
        "# Алгоритм Deflate"
      ]
    },
    {
      "cell_type": "code",
      "execution_count": null,
      "metadata": {},
      "outputs": [],
      "source": []
    },
    {
      "cell_type": "code",
      "execution_count": 187,
      "metadata": {
        "id": "ZAU57ZQtogOC"
      },
      "outputs": [
        {
          "name": "stdout",
          "output_type": "stream",
          "text": [
            "{'c': '0', 'p': '0001', 'o': '0010', 'f': '01', 's': '10', 'v': '00111', 'd': '00', 'x': '11', 'i': '0110', 'j': '0111', 'g': '10000', 'e': '10001', 'm': '10010', 'w': '10011', 'u': '10100', 'y': '10101', 'z': '10', 'l': '1100', 'k': '11010', 'n': '0', 't': '11100', 'r': '11101', 'h': '11110', 'a': '11', 'q': '1111110', 'b': '1111111'}\n",
            "sxc\n"
          ]
        }
      ],
      "source": [
        "class Deflate:\n",
        "    def __init__(self, buffer_size: int):\n",
        "        self.buffer_size = buffer_size\n",
        "\n",
        "    def encode(self, text: str) -> str:\n",
        "\n",
        "        tree = Huffman().build_tree(text)\n",
        "        codes = Huffman().calculate_codes(tree)\n",
        "        enccoded = LZ77(self.buffer_size).encode(Huffman().encode(text))\n",
        "        \n",
        "        return enccoded,codes\n",
        "\n",
        "                \n",
        "        # return LZ77(self.buffer_size).encode(enccoded), codes\n",
        "\n",
        "    def decode(self, code: list, codes: dict) -> str:\n",
        "\n",
        "        print(codes)\n",
        "        return Huffman().decode(LZ77(self.buffer_size).decode(code),codes)\n",
        "\n",
        "    \n",
        "text = \"zxc\"\n",
        "deflate = Deflate(5)\n",
        "\n",
        "encoded_text, codes_dict=deflate.encode(text)\n",
        "decoded = deflate.decode(encoded_text, codes_dict)\n",
        "print(decoded)\n",
        "\n"
      ]
    },
    {
      "cell_type": "markdown",
      "metadata": {},
      "source": [
        "# Testing"
      ]
    },
    {
      "cell_type": "code",
      "execution_count": 189,
      "metadata": {},
      "outputs": [
        {
          "name": "stdout",
          "output_type": "stream",
          "text": [
            "LZW effectivenes: 0.5\n",
            "LZ77 effectiveness: 0.1111111111111111\n",
            "LZW effectivenes: 0.7383935151068534\n",
            "LZ77 effectiveness: 0.13159968479117415\n",
            "LZW effectivenes: 0.7835616438356164\n",
            "LZ77 effectiveness: 0.129932502596054\n",
            "LZW effectivenes: 0.8752186588921282\n",
            "LZ77 effectiveness: 0.13246844938663843\n",
            "LZW effectivenes: 0.9204231830726771\n",
            "LZ77 effectiveness: 0.13171406003159558\n",
            "LZW effectivenes: 0.9346038863976084\n",
            "LZ77 effectiveness: 0.13166969385874858\n",
            "LZW effectivenes: 0.9765701269118126\n",
            "LZ77 effectiveness: 0.1319004922644163\n",
            "LZW effectivenes: 0.9472402597402597\n",
            "LZ77 effectiveness: 0.13213315217391305\n",
            "LZW effectivenes: 0.9861966970667981\n",
            "LZ77 effectiveness: 0.13135043745178182\n",
            "LZW effectivenes: 0.9821077896574296\n",
            "LZ77 effectiveness: 0.13155625703304252\n"
          ]
        },
        {
          "data": {
            "image/png": "[encoded data removed]",
            "text/plain": [
              "<Figure size 640x480 with 1 Axes>"
            ]
          },
          "metadata": {},
          "output_type": "display_data"
        }
      ],
      "source": [
        "X = [i for i in lengths]\n",
        "Y_LZW = []\n",
        "Y_HUFFMAN = []\n",
        "Y_LZ77 = []\n",
        "\n",
        "for i in lengths:\n",
        "\n",
        "    to_code = randomword(i)\n",
        "    start = time()\n",
        "    code, dict_ = LZW().encode(to_code)\n",
        "    decoded = LZW().decode(code, dict_)\n",
        "    Y_LZW.append(time()-start)\n",
        "    assert to_code == decoded\n",
        "    \n",
        "    print(\"LZW effectivenes:\",i / (len(code) + len(dict_)))\n",
        "    \n",
        "    start = time()\n",
        "    lz777 = LZ77(5)\n",
        "    encoded = lz777.encode(to_code)\n",
        "    decoded = lz777.decode(encoded)\n",
        "    Y_LZ77.append(time()-start)\n",
        "    assert decoded == to_code\n",
        "    \n",
        "    print(\"LZ77 effectiveness:\", i / (9*len(encoded)))\n",
        "    \n",
        "    \n",
        "\n",
        "\n",
        "    \n",
        "    \n",
        "plt.plot(X, Y_LZW, label = \"LZW\")\n",
        "# plt.plot(X, Y_HUFFMAN, label = \"HUFFMAN\")\n",
        "plt.plot(X, Y_LZ77, label = \"LZ77\")\n",
        "plt.xlabel = \"length of string\"\n",
        "plt.ylabel = \"time perfomance\"\n",
        "\n",
        "plt.legend()\n",
        "plt.show()\n"
      ]
    },
    {
      "cell_type": "markdown",
      "metadata": {},
      "source": [
        "### LZW\n",
        "Очевидно, що зі зростанням кількості елементів в повідомленні, час стиснення відповідно зростає. На жаль, через повільнісь мови програмування Python нам не вдастся перевірити ефективність стиснення на повну, адже алгоритм розкриваєтсья на повну потужність на великих файлах, таких як картинки, в яких дуже багато повторен. Це можна довести тим, що зі збільшенням елементів відслідковується збільшення ефективності стиснення."
      ]
    },
    {
      "cell_type": "markdown",
      "metadata": {},
      "source": [
        "\n",
        "# LZ77\n",
        "Метод encode сканує текст та створює стиснену версію, використовуючи трійки (зсув, довжина, наступний символ). Для кожної позиції у тексті, алгоритм шукає найдовший збіг вікном заданого розміру, позначає його як трійку і зсувається далі. Якщо збіг не знайдено, то додається трійка з нульовим зсувом.\n",
        "\n",
        "Метод decode використовує закодовані трійки для відновлення оригінального тексту. Для кожної трійки він використовує зсув та довжину для вибору підстрічки з попередніх символів та додає наступний символ.\n",
        "\n",
        "Н амою думку, цей алгоритм ефективно стискує повторювані фрагменти в тексті, зменшуючи загальний об'єм інформації. Однак для деяких видів даних та текстів інші алгоритми стиснення можуть бути більш ефективними."
      ]
    }
  ],
  "metadata": {
    "colab": {
      "provenance": []
    },
    "kernelspec": {
      "display_name": "Python 3",
      "name": "python3"
    },
    "language_info": {
      "codemirror_mode": {
        "name": "ipython",
        "version": 3
      },
      "file_extension": ".py",
      "mimetype": "text/x-python",
      "name": "python",
      "nbconvert_exporter": "python",
      "pygments_lexer": "ipython3",
      "version": "3.11.7"
    }
  },
  "nbformat": 4,
  "nbformat_minor": 0
}
